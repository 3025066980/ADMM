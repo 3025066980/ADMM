{
 "cells": [
  {
   "cell_type": "code",
   "execution_count": 21,
   "metadata": {},
   "outputs": [],
   "source": [
    "import matplotlib.pyplot as plt\n",
    "import numpy as np\n",
    "from sklearn import datasets, linear_model\n",
    "from sklearn.metrics import mean_squared_error, r2_score\n",
    "import torch.optim as optim"
   ]
  },
  {
   "cell_type": "code",
   "execution_count": 11,
   "metadata": {},
   "outputs": [],
   "source": [
    "# Helper functions\n",
    "def predict(X, W):\n",
    "    b = np.ones((X.shape[0], 1))\n",
    "    X = np.concatenate([X, b], axis = 1)\n",
    "    YPred = X.dot(W)\n",
    "    return YPred\n",
    "\n",
    "def plot(X, Y, YPredict, label):\n",
    "    plt.figure(figsize=(9, 6))\n",
    "    plt.title(label)\n",
    "    plt.xlabel(\"X\")\n",
    "    plt.ylabel(\"Y\")\n",
    "    plt.scatter(X, Y,  color='black', label = 'Actual')\n",
    "    plt.plot(X, YPredict, color='blue', linewidth=3, label = 'Prediction')\n",
    "    plt.xticks(())\n",
    "    plt.yticks(())\n",
    "    plt.legend()\n",
    "    plt.show()"
   ]
  },
  {
   "cell_type": "code",
   "execution_count": 12,
   "metadata": {},
   "outputs": [],
   "source": [
    "# num_iterations = 5\n",
    "# N = 10000\n",
    "# D = 10\n",
    "\n",
    "# X = np.random.randn(N, D)\n",
    "# Y = np.random.randn(N, 1)"
   ]
  },
  {
   "cell_type": "code",
   "execution_count": 13,
   "metadata": {},
   "outputs": [],
   "source": [
    "# print(X.shape)"
   ]
  },
  {
   "cell_type": "code",
   "execution_count": 14,
   "metadata": {},
   "outputs": [],
   "source": [
    "# Load the diabetes dataset\n",
    "diabetes = datasets.load_diabetes()\n",
    "\n",
    "# Use only one feature\n",
    "diabetes_X = diabetes.data[:, np.newaxis, 2]\n",
    "\n",
    "# Split the data into training/testing sets\n",
    "diabetes_X_train = diabetes_X[:-20]\n",
    "diabetes_X_test = diabetes_X[-20:]\n",
    "\n",
    "# Split the targets into training/testing sets\n",
    "diabetes_y_train = diabetes.target[:-20]\n",
    "diabetes_y_test = diabetes.target[-20:]"
   ]
  },
  {
   "cell_type": "code",
   "execution_count": 15,
   "metadata": {},
   "outputs": [],
   "source": [
    "#print(diabetes)"
   ]
  },
  {
   "cell_type": "code",
   "execution_count": 16,
   "metadata": {},
   "outputs": [],
   "source": [
    "# diabetes_X_train = X[:-20]\n",
    "# diabetes_X_test = X[-20:]\n",
    "# diabetes_y_train = Y[:-20]\n",
    "# diabetes_y_test = Y[-20:]"
   ]
  },
  {
   "cell_type": "code",
   "execution_count": 34,
   "metadata": {},
   "outputs": [
    {
     "name": "stdout",
     "output_type": "stream",
     "text": [
      "Mean squared error: 2553.13\n",
      "Variance score: 0.47\n"
     ]
    },
    {
     "data": {
      "image/png": "[encoded data removed]",
      "text/plain": [
       "<Figure size 648x432 with 1 Axes>"
      ]
     },
     "metadata": {},
     "output_type": "display_data"
    }
   ],
   "source": [
    "# Create linear regression object\n",
    "\n",
    "alpha = 0.01\n",
    "lasso = linear_model.Lasso(alpha=alpha, max_iter = 5)\n",
    "\n",
    "diabetes_y_pred = lasso.fit(diabetes_X_train, diabetes_y_train).predict(diabetes_X_test)\n",
    "\n",
    "# The coefficients\n",
    "#print('Coefficients: \\n', regr.coef_)\n",
    "# The mean squared error\n",
    "print(\"Mean squared error: %.2f\"\n",
    "      % mean_squared_error(diabetes_y_test, diabetes_y_pred))\n",
    "# Explained variance score: 1 is perfect prediction\n",
    "print('Variance score: %.2f' % r2_score(diabetes_y_test, diabetes_y_pred))\n",
    "\n",
    "# Plot outputs\n",
    "plot(diabetes_X_test, diabetes_y_test, diabetes_y_pred, \"Sk-learn Lasso Prediction\")"
   ]
  },
  {
   "cell_type": "code",
   "execution_count": 27,
   "metadata": {},
   "outputs": [
    {
     "name": "stdout",
     "output_type": "stream",
     "text": [
      "6272616.116787003\n",
      "('Objective Value:', 983261.463164293)\n",
      "('Objective Value:', 897668.6203126734)\n",
      "('Objective Value:', 868007.8413340384)\n",
      "('Objective Value:', 856511.319478526)\n",
      "('Objective Value:', 851592.7846565667)\n",
      "('Objective Value:', 849327.9824983742)\n",
      "('Objective Value:', 848234.7107673415)\n",
      "('Objective Value:', 847692.2511785958)\n",
      "('Objective Value:', 847418.9980950987)\n",
      "('Objective Value:', 847280.2432261793)\n",
      "('Objective Value:', 847209.4891767501)\n",
      "('Objective Value:', 847173.3318901183)\n",
      "('Objective Value:', 847154.8338783506)\n",
      "('Objective Value:', 847145.3648987642)\n",
      "('Objective Value:', 847140.5163812094)\n",
      "('Objective Value:', 847138.0333613176)\n",
      "('Objective Value:', 847136.7616604941)\n",
      "('Objective Value:', 847136.1103217956)\n",
      "('Objective Value:', 847135.7767129098)\n",
      "('Objective Value:', 847135.6058401458)\n",
      "('Objective Value:', 847135.5183195255)\n",
      "('Objective Value:', 847135.4734915516)\n",
      "('Objective Value:', 847135.4505306758)\n",
      "('Objective Value:', 847135.4387701137)\n",
      "('Objective Value:', 847135.4327463505)\n",
      "('Objective Value:', 847135.429660977)\n",
      "('Objective Value:', 847135.4280806475)\n",
      "('Objective Value:', 847135.4272712017)\n",
      "('Objective Value:', 847135.4268566035)\n",
      "('Objective Value:', 847135.426644246)\n",
      "('Objective Value:', 847135.4265354766)\n",
      "('Objective Value:', 847135.4264797645)\n",
      "('Objective Value:', 847135.426451229)\n",
      "('Objective Value:', 847135.426436613)\n",
      "('Objective Value:', 847135.4264291266)\n",
      "('Objective Value:', 847135.4264252922)\n",
      "('Objective Value:', 847135.426423328)\n",
      "('Objective Value:', 847135.4264223222)\n",
      "('Objective Value:', 847135.4264218069)\n",
      "('Objective Value:', 847135.4264215429)\n",
      "('Objective Value:', 847135.426421408)\n",
      "('Objective Value:', 847135.4264213388)\n",
      "('Objective Value:', 847135.4264213033)\n",
      "('Objective Value:', 847135.4264212849)\n",
      "('Objective Value:', 847135.4264212758)\n",
      "('Objective Value:', 847135.426421271)\n",
      "('Objective Value:', 847135.4264212686)\n",
      "('Objective Value:', 847135.4264212672)\n",
      "('Objective Value:', 847135.4264212666)\n",
      "('Objective Value:', 847135.4264212663)\n",
      "('Weights: ', array([[780.4608515 ],\n",
      "       [151.14401838]]))\n"
     ]
    }
   ],
   "source": [
    "X = diabetes_X_train\n",
    "Y = diabetes_y_train\n",
    "\n",
    "b = np.ones((X.shape[0], 1))\n",
    "X = np.concatenate([X, b], axis = 1)\n",
    "Y = Y.reshape(-1, 1)\n",
    "admm = optim.ADMM([X, Y, 0.01, 1], \"Lasso\") #, parallel = True)\n",
    "\n",
    "print(admm.getLoss())\n",
    "for i in range(0, 50):\n",
    "    print('Objective Value:', admm.step())\n",
    "\n",
    "print('Weights: ',admm.getWeights())\n",
    "W = admm.getWeights()"
   ]
  },
  {
   "cell_type": "code",
   "execution_count": 9,
   "metadata": {},
   "outputs": [
    {
     "name": "stdout",
     "output_type": "stream",
     "text": [
      "((422, 2), (422, 1))\n"
     ]
    }
   ],
   "source": [
    "print(X.shape, Y.shape)"
   ]
  },
  {
   "cell_type": "code",
   "execution_count": 28,
   "metadata": {},
   "outputs": [],
   "source": [
    "# Comparison with Scikit - LR\n",
    "admm_predict = predict(diabetes_X_test, W)"
   ]
  },
  {
   "cell_type": "code",
   "execution_count": 11,
   "metadata": {},
   "outputs": [
    {
     "name": "stdout",
     "output_type": "stream",
     "text": [
      "((422, 1), (20, 1), (20,))\n"
     ]
    }
   ],
   "source": [
    "print(Y.shape, admm_predict.shape,diabetes_y_test.shape )"
   ]
  },
  {
   "cell_type": "code",
   "execution_count": 29,
   "metadata": {},
   "outputs": [
    {
     "name": "stdout",
     "output_type": "stream",
     "text": [
      "Mean squared error: 2715.73\n",
      "Variance score: 0.44\n"
     ]
    }
   ],
   "source": [
    "print(\"Mean squared error: %.2f\"\n",
    "      % mean_squared_error(diabetes_y_test, admm_predict))\n",
    "# Explained variance score: 1 is perfect prediction\n",
    "print('Variance score: %.2f' % r2_score(diabetes_y_test, admm_predict))"
   ]
  },
  {
   "cell_type": "code",
   "execution_count": 26,
   "metadata": {},
   "outputs": [
    {
     "name": "stdout",
     "output_type": "stream",
     "text": [
      "Mean squared error: 2769.15\n",
      "Variance score: 0.43\n"
     ]
    },
    {
     "data": {
      "image/png": "[encoded data removed]",
      "text/plain": [
       "<Figure size 648x432 with 1 Axes>"
      ]
     },
     "metadata": {},
     "output_type": "display_data"
    }
   ],
   "source": [
    "print(\"Mean squared error: %.2f\"\n",
    "      % mean_squared_error(diabetes_y_test, admm_predict))\n",
    "# Explained variance score: 1 is perfect prediction\n",
    "print('Variance score: %.2f' % r2_score(diabetes_y_test, admm_predict))\n",
    "plot(diabetes_X_test, diabetes_y_test, admm_predict, \"ADMM-Lasso Prediction\")"
   ]
  },
  {
   "cell_type": "code",
   "execution_count": 43,
   "metadata": {},
   "outputs": [
    {
     "name": "stdout",
     "output_type": "stream",
     "text": [
      "Mean squared error: 2559.32\n",
      "Variance score: 0.47\n"
     ]
    },
    {
     "data": {
      "image/png": "[encoded data removed]",
      "text/plain": [
       "<Figure size 648x432 with 1 Axes>"
      ]
     },
     "metadata": {},
     "output_type": "display_data"
    }
   ],
   "source": [
    "ridge = linear_model.Ridge(alpha=alpha)\n",
    "ridge.fit(diabetes_X_train, diabetes_y_train)\n",
    "\n",
    "diabetes_y_pred = ridge.predict(diabetes_X_test)\n",
    "print(\"Mean squared error: %.2f\"\n",
    "      % mean_squared_error(diabetes_y_test, diabetes_y_pred))\n",
    "# Explained variance score: 1 is perfect prediction\n",
    "print('Variance score: %.2f' % r2_score(diabetes_y_test, diabetes_y_pred))\n",
    "\n",
    "# Plot outputs\n",
    "plot(diabetes_X_test, diabetes_y_test, diabetes_y_pred, \"Sk-learn Ridge Regression\")"
   ]
  },
  {
   "cell_type": "code",
   "execution_count": 44,
   "metadata": {},
   "outputs": [],
   "source": [
    "import numpy as np\n",
    "import multiprocessing\n",
    "from multiprocessing import Pool\n",
    "\n",
    "\n",
    "class ADMM(object):\n",
    "    \"\"\"\n",
    "    min f(x) + g(z)\n",
    "    s.t. Ax + Bz = c\n",
    "    \"\"\"\n",
    "    def __init__(self, A, b, lamb, rho, parallel=False):\n",
    "        self.A = A\n",
    "        self.b = b\n",
    "        self.lamb = lamb\n",
    "        self.rho = rho\n",
    "        self.z = np.zeros((A.shape[0], 1))\n",
    "        self.parallel = parallel\n",
    "        if self.parallel:\n",
    "            self.x = np.zeros((A.shape[1], A.shape[0]))\n",
    "            self.nu = np.zeros((A.shape[1], A.shape[0]))\n",
    "            self.x_bar = np.mean(self.x, 0).reshape(-1 , 1)\n",
    "            self.nu_bar = np.mean(self.nu, 0).reshape(-1 , 1)\n",
    "            self.num_cores = multiprocessing.cpu_count()\n",
    "        else:\n",
    "            self.x = np.zeros((A.shape[0], 1))\n",
    "            self.nu = np.zeros((A.shape[0], 1))\n",
    "\n",
    "    def update(self):\n",
    "        if self.parallel:\n",
    "            self.update_parallel()\n",
    "        else:\n",
    "            self.update_serial()\n",
    "\n",
    "    def getparam(self):\n",
    "        if self.parallel:\n",
    "            return self.x_bar\n",
    "        return self.x\n",
    "\n",
    "    def get_diff(self):\n",
    "        if self.parallel:\n",
    "            print(self.x_bar - self.z)\n",
    "        else:\n",
    "            print(self.x - self.z)\n",
    "\n",
    "    def update_one_x(self, i):\n",
    "        self.x[i] = (self.A[:, i] * self.b[i] + self.rho * self.z.reshape(-1) - self.nu[i]) / (self.A[:, i].dot(self.A[:, i].T) + self.rho)\n",
    "\n",
    "    def update_one_nu(self, i):\n",
    "        self.nu[i] = self.nu[i] + (self.rho * (self.x[i] - self.z.reshape(-1)))\n",
    "\n",
    "    def update_parallel(self):\n",
    "        p = Pool(self.num_cores)\n",
    "        p.map(self.update_one_x, range(self.A.shape[1]))\n",
    "        # Parallel(n_jobs=self.num_cores)(delayed()(i) for i in range(self.A.shape[1]))\n",
    "        self.x_bar = np.mean(self.x, 0).reshape(-1 , 1)\n",
    "        # self.z = (self.x_bar + self.nu_bar / self.rho) - (self.lamb / self.rho) * np.sign(self.z)\n",
    "        self.z = (self.rho * self.x_bar + self.nu_bar) / (self.rho + 2 * self.lamb)\n",
    "        p.map(self.update_one_nu, range(self.A.shape[1]))\n",
    "        # Parallel(n_jobs=self.num_cores)(delayed(self.update_one_nu)(i) for i in range(self.A.shape[1]))\n",
    "        self.nu_bar = np.mean(self.nu, 0).reshape(-1 , 1)\n",
    "\n",
    "    def update_serial(self):\n",
    "        self.x = np.linalg.inv(self.A.dot(self.A.T) + self.rho).dot(self.A.dot(self.b) + self.rho * self.z - self.nu)\n",
    "        # self.z = (self.x + self.nu)*(self.rho/(2*self.lamb + self.rho))\n",
    "        self.z = (self.rho * self.x + self.nu) / (self.rho + 2 * self.lamb)\n",
    "        self.nu = self.nu + self.rho * (self.x - self.z)\n",
    "\n",
    "def obj_func(A, x, b, lamb):\n",
    "    return 0.5 * np.linalg.norm(A.T.dot(x) - b) ** 2 + lamb * (np.linalg.norm(x)**2)"
   ]
  },
  {
   "cell_type": "code",
   "execution_count": 46,
   "metadata": {},
   "outputs": [
    {
     "name": "stdout",
     "output_type": "stream",
     "text": [
      "('Weights: ', array([[738.13112889],\n",
      "       [151.25737136]]))\n"
     ]
    }
   ],
   "source": [
    "X = diabetes_X_train\n",
    "Y = diabetes_y_train\n",
    "\n",
    "b = np.ones((X.shape[0], 1))\n",
    "X = np.concatenate([X, b], axis = 1)\n",
    "Y = Y.reshape(-1, 1)\n",
    "admm = ADMM(X.T, Y, alpha, 1)\n",
    "\n",
    "#optim.ADMM([X, Y, 0.01], \"Lasso\") #, parallel = True)\n",
    "\n",
    "#print(admm.getLoss())\n",
    "for i in range(0, 5):\n",
    "    admm.update()\n",
    "\n",
    "print('Weights: ',admm.getparam())\n",
    "W = admm.getparam()"
   ]
  },
  {
   "cell_type": "code",
   "execution_count": 47,
   "metadata": {},
   "outputs": [],
   "source": [
    "# Comparison with Scikit - LR\n",
    "admm_predict = predict(diabetes_X_test, W)"
   ]
  },
  {
   "cell_type": "code",
   "execution_count": 49,
   "metadata": {},
   "outputs": [
    {
     "name": "stdout",
     "output_type": "stream",
     "text": [
      "Mean squared error: 2799.13\n",
      "Variance score: 0.42\n"
     ]
    },
    {
     "data": {
      "image/png": "[encoded data removed]",
      "text/plain": [
       "<Figure size 648x432 with 1 Axes>"
      ]
     },
     "metadata": {},
     "output_type": "display_data"
    }
   ],
   "source": [
    "print(\"Mean squared error: %.2f\"\n",
    "      % mean_squared_error(diabetes_y_test, admm_predict))\n",
    "# Explained variance score: 1 is perfect prediction\n",
    "print('Variance score: %.2f' % r2_score(diabetes_y_test, admm_predict))\n",
    "plot(diabetes_X_test, diabetes_y_test, admm_predict, \"ADMM-Ridge Prediction\")"
   ]
  }
 ],
 "metadata": {
  "kernelspec": {
   "display_name": "Python 3",
   "language": "python",
   "name": "python3"
  },
  "language_info": {
   "codemirror_mode": {
    "name": "ipython",
    "version": 2
   },
   "file_extension": ".py",
   "mimetype": "text/x-python",
   "name": "python",
   "nbconvert_exporter": "python",
   "pygments_lexer": "ipython2",
   "version": "2.7.14"
  }
 },
 "nbformat": 4,
 "nbformat_minor": 2
}
