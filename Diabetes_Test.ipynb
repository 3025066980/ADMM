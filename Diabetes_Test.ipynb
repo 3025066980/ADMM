{
 "cells": [
  {
   "cell_type": "code",
   "execution_count": 1,
   "metadata": {},
   "outputs": [],
   "source": [
    "import matplotlib.pyplot as plt\n",
    "import numpy as np\n",
    "from sklearn import datasets, linear_model\n",
    "from sklearn.metrics import mean_squared_error, r2_score\n",
    "import torch.optim as optim\n",
    "import time"
   ]
  },
  {
   "cell_type": "code",
   "execution_count": 80,
   "metadata": {},
   "outputs": [],
   "source": [
    "# Helper functions\n",
    "def predict(X, W):\n",
    "    b = np.ones((X.shape[0], 1))\n",
    "    X = np.concatenate([X, b], axis = 1)\n",
    "    YPred = X.dot(W)\n",
    "    return YPred\n",
    "\n",
    "def plot(X, Y, YPredict, label):\n",
    "    plt.figure(figsize=(9, 6))\n",
    "    plt.title(label)\n",
    "    plt.xlabel(\"X\")\n",
    "    plt.ylabel(\"Y\")\n",
    "    plt.scatter(X, Y,  color='black', label = 'Actual')\n",
    "    plt.plot(X, YPredict, color='blue', linewidth=3, label = 'Prediction')\n",
    "    plt.xticks(())\n",
    "    plt.yticks(())\n",
    "    plt.legend()\n",
    "    plt.show()\n",
    "    \n",
    "    \n",
    "def plotObjective(X, title):\n",
    "    plt.plot(X, label = 'Objective Function')\n",
    "    plt.title(title)\n",
    "    plt.show()\n",
    "    \n",
    "def runAlgo(X, Y, algo, steps = 5, parallel = False):\n",
    "\n",
    "    admm = optim.ADMM([X, Y, 0.01, 1], algo, parallel = parallel)\n",
    "\n",
    "    #print(admm.getLoss())\n",
    "    # start = time.time()\n",
    "    oVals = []\n",
    "    for i in xrange(0, steps):\n",
    "        s = admm.step()\n",
    "        oVals.append(s)\n",
    "        print('Objective Value:', s)\n",
    "    #end = time.time()\n",
    "    #admmTime = end - start\n",
    "    #print('Time taken', end - start)\n",
    "\n",
    "    #print('Weights: ',admm.getWeights())\n",
    "    W = admm.getParams()\n",
    "    return W, oVals\n",
    "\n",
    "def lassoObjective(W, X, b, alpha):\n",
    "    return 0.5 * np.linalg.norm(W.dot(X) - b)**2 + alpha *  np.linalg.norm(X, 1)\n",
    "\n",
    "def ridgeObjective(W, X, b, alpha):\n",
    "    return 0.5 * np.linalg.norm(W.dot(X) - b)**2 + alpha *  np.linalg.norm(X, 2)"
   ]
  },
  {
   "cell_type": "code",
   "execution_count": 62,
   "metadata": {},
   "outputs": [],
   "source": [
    "# num_iterations = 5\n",
    "# N = 10000\n",
    "# D = 10\n",
    "\n",
    "# X = np.random.randn(N, D)\n",
    "# Y = np.random.randn(N, 1)"
   ]
  },
  {
   "cell_type": "code",
   "execution_count": 63,
   "metadata": {},
   "outputs": [],
   "source": [
    "# print(X.shape)"
   ]
  },
  {
   "cell_type": "code",
   "execution_count": 64,
   "metadata": {},
   "outputs": [],
   "source": [
    "# Load the diabetes dataset\n",
    "diabetes = datasets.load_diabetes()\n",
    "\n",
    "# Use only one feature\n",
    "diabetes_X = diabetes.data[:, np.newaxis, 2]\n",
    "\n",
    "# Split the data into training/testing sets\n",
    "diabetes_X_train = diabetes_X[:-20]\n",
    "diabetes_X_test = diabetes_X[-20:]\n",
    "\n",
    "# Split the targets into training/testing sets\n",
    "diabetes_y_train = diabetes.target[:-20]\n",
    "diabetes_y_test = diabetes.target[-20:]"
   ]
  },
  {
   "cell_type": "code",
   "execution_count": 65,
   "metadata": {},
   "outputs": [],
   "source": [
    "#print(diabetes)"
   ]
  },
  {
   "cell_type": "code",
   "execution_count": 66,
   "metadata": {},
   "outputs": [],
   "source": [
    "# diabetes_X_train = X[:-20]\n",
    "# diabetes_X_test = X[-20:]\n",
    "# diabetes_y_train = Y[:-20]\n",
    "# diabetes_y_test = Y[-20:]"
   ]
  },
  {
   "cell_type": "code",
   "execution_count": 90,
   "metadata": {},
   "outputs": [
    {
     "name": "stdout",
     "output_type": "stream",
     "text": [
      "(array([948.42155875]), 2.3283064365386963e-10, 171.0893722419929, 2)\n",
      "[Parallel(n_jobs=1)]: Done   1 out of   1 | elapsed:    0.0s remaining:    0.0s\n",
      "(array([876.5629941]), -2.3283064365386963e-10, 161.86896939501779, 2)\n",
      "[Parallel(n_jobs=1)]: Done   2 out of   2 | elapsed:    0.0s remaining:    0.0s\n",
      "(array([986.21146564]), 0.0, 168.27644964539007, 2)\n",
      "[Parallel(n_jobs=1)]: Done   3 out of   3 | elapsed:    0.0s remaining:    0.0s\n",
      "[Parallel(n_jobs=1)]: Done   3 out of   3 | elapsed:    0.0s finished\n",
      "('Time taken', 0.08002400398254395)\n",
      "Mean squared error: 2548.08\n",
      "Variance score: 0.47\n"
     ]
    },
    {
     "data": {
      "image/png": "[encoded data removed]",
      "text/plain": [
       "<Figure size 648x432 with 1 Axes>"
      ]
     },
     "metadata": {},
     "output_type": "display_data"
    }
   ],
   "source": [
    "# Run Lasso\n",
    "\n",
    "alpha = 0.00001\n",
    "lasso = linear_model.LassoCV(alphas=[alpha], verbose = 1000)\n",
    "\n",
    "start = time.time()\n",
    "lfit = lasso.fit(diabetes_X_train, diabetes_y_train)\n",
    "end = time.time()\n",
    "diabetes_y_pred = lfit.predict(diabetes_X_test)\n",
    "\n",
    "skTime = end- start\n",
    "print('Time taken', end - start)\n",
    "# The coefficients\n",
    "#print('Coefficients: \\n', regr.coef_)\n",
    "# The mean squared error\n",
    "print(\"Mean squared error: %.2f\"\n",
    "      % mean_squared_error(diabetes_y_test, diabetes_y_pred))\n",
    "# Explained variance score: 1 is perfect prediction\n",
    "print('Variance score: %.2f' % r2_score(diabetes_y_test, diabetes_y_pred))\n",
    "\n",
    "# Plot outputs\n",
    "plot(diabetes_X_test, diabetes_y_test, diabetes_y_pred, \"Sk-learn Lasso Prediction\")"
   ]
  },
  {
   "cell_type": "code",
   "execution_count": 91,
   "metadata": {},
   "outputs": [
    {
     "name": "stdout",
     "output_type": "stream",
     "text": [
      "426062.4750095874\n",
      "363432.8775282069\n",
      "460500.35363853065\n"
     ]
    }
   ],
   "source": [
    "sk_w = np.array([944.21977, 872.06439, 981.638155])\n",
    "# sk_b = np.array([2, 2, 2])\n",
    "sk_b = np.array([2.3283064365386963e-10, -2.3283064365386963e-10, 0.0])\n",
    "for w, b in zip(sk_w, sk_b):\n",
    "    print(lassoObjective(np.array(w), diabetes_X_train, np.array(b), alpha))"
   ]
  },
  {
   "cell_type": "code",
   "execution_count": 77,
   "metadata": {},
   "outputs": [
    {
     "name": "stdout",
     "output_type": "stream",
     "text": [
      "(array([965.75198079]), 0.0, 1243.5769, 2)\n",
      "('Time taken', 0.01669597625732422)\n"
     ]
    }
   ],
   "source": [
    "# Create linear regression object\n",
    "\n",
    "alpha = 0.01\n",
    "#lasso = linear_model.LassoCV(alphas=[alpha], verbose = 10)\n",
    "\n",
    "#start = time.time()\n",
    "lfit = linear_model.lasso_path(diabetes_X_train, diabetes_y_train, alphas=[alpha], verbose = 10)\n",
    "#end = time.time()\n",
    "#diabetes_y_pred = lfit.predict(diabetes_X_test)\n",
    "\n",
    "skTime = end- start\n",
    "print('Time taken', end - start)\n",
    "# The coefficients\n",
    "#print('Coefficients: \\n', regr.coef_)\n",
    "# The mean squared error\n",
    "#print(\"Mean squared error: %.2f\"\n",
    "#      % mean_squared_error(diabetes_y_test, diabetes_y_pred))\n",
    "# Explained variance score: 1 is perfect prediction\n",
    "#print('Variance score: %.2f' % r2_score(diabetes_y_test, diabetes_y_pred))\n",
    "\n",
    "# Plot outputs\n",
    "#plot(diabetes_X_test, diabetes_y_test, diabetes_y_pred, \"Sk-learn Lasso Prediction\")"
   ]
  },
  {
   "cell_type": "code",
   "execution_count": 68,
   "metadata": {},
   "outputs": [
    {
     "data": {
      "text/plain": [
       "['normalize',\n",
       " 'alphas',\n",
       " 'n_jobs',\n",
       " 'verbose',\n",
       " 'fit_intercept',\n",
       " 'selection',\n",
       " 'positive',\n",
       " 'n_alphas',\n",
       " 'max_iter',\n",
       " 'eps',\n",
       " 'precompute',\n",
       " 'random_state',\n",
       " 'tol',\n",
       " 'copy_X',\n",
       " 'cv']"
      ]
     },
     "execution_count": 68,
     "metadata": {},
     "output_type": "execute_result"
    }
   ],
   "source": [
    "lasso.get_params().keys()"
   ]
  },
  {
   "cell_type": "code",
   "execution_count": 71,
   "metadata": {},
   "outputs": [
    {
     "name": "stdout",
     "output_type": "stream",
     "text": [
      "('Objective Value:', 983261.463164293)\n",
      "('Objective Value:', 897668.6203126734)\n",
      "('Objective Value:', 868007.8413340384)\n",
      "('Objective Value:', 856511.319478526)\n",
      "('Objective Value:', 851592.7846565667)\n",
      "('Objective Value:', 849327.9824983742)\n",
      "('Objective Value:', 848234.7107673415)\n",
      "('Objective Value:', 847692.2511785958)\n",
      "('Objective Value:', 847418.9980950987)\n",
      "('Objective Value:', 847280.2432261793)\n",
      "('Objective Value:', 847209.4891767501)\n",
      "('Objective Value:', 847173.3318901183)\n",
      "('Objective Value:', 847154.8338783506)\n",
      "('Objective Value:', 847145.3648987642)\n",
      "('Objective Value:', 847140.5163812094)\n",
      "('Objective Value:', 847138.0333613176)\n",
      "('Objective Value:', 847136.7616604941)\n",
      "('Objective Value:', 847136.1103217956)\n",
      "('Objective Value:', 847135.7767129098)\n",
      "('Objective Value:', 847135.6058401458)\n",
      "('Weights: ', array([[780.45964671],\n",
      "       [151.14402181]]))\n",
      "Mean squared error: 2715.74\n",
      "Variance score: 0.44\n"
     ]
    },
    {
     "data": {
      "image/png": "[encoded data removed]",
      "text/plain": [
       "<Figure size 648x432 with 1 Axes>"
      ]
     },
     "metadata": {},
     "output_type": "display_data"
    }
   ],
   "source": [
    "X = diabetes_X_train\n",
    "Y = diabetes_y_train\n",
    "\n",
    "b = np.ones((X.shape[0], 1))\n",
    "X = np.concatenate([X, b], axis = 1)\n",
    "Y = Y.reshape(-1, 1)\n",
    "\n",
    "W, oVals = runAlgo(X, Y, \"Lasso\", 20)\n",
    "\n",
    "print('Weights: ', W)\n",
    "\n",
    "# Comparison with Scikit - LR\n",
    "admm_predict = predict(diabetes_X_test, W)\n",
    "\n",
    "print(\"Mean squared error: %.2f\"\n",
    "      % mean_squared_error(diabetes_y_test, admm_predict))\n",
    "# Explained variance score: 1 is perfect prediction\n",
    "print('Variance score: %.2f' % r2_score(diabetes_y_test, admm_predict))\n",
    "\n",
    "plot(diabetes_X_test, diabetes_y_test, admm_predict, \"ADMM-Lasso Prediction\")"
   ]
  },
  {
   "cell_type": "code",
   "execution_count": 70,
   "metadata": {},
   "outputs": [
    {
     "data": {
      "image/png": "[encoded data removed]",
      "text/plain": [
       "<Figure size 432x288 with 1 Axes>"
      ]
     },
     "metadata": {},
     "output_type": "display_data"
    }
   ],
   "source": [
    "plotObjective(oVals, \"Lasso\")"
   ]
  },
  {
   "cell_type": "code",
   "execution_count": 52,
   "metadata": {},
   "outputs": [
    {
     "name": "stdout",
     "output_type": "stream",
     "text": [
      "(2, 20)\n"
     ]
    },
    {
     "data": {
      "text/plain": [
       "<matplotlib.contour.QuadContourSet at 0x7fa26ef156d0>"
      ]
     },
     "execution_count": 52,
     "metadata": {},
     "output_type": "execute_result"
    },
    {
     "data": {
      "image/png": "[encoded data removed]",
      "text/plain": [
       "<Figure size 432x288 with 1 Axes>"
      ]
     },
     "metadata": {},
     "output_type": "display_data"
    }
   ],
   "source": [
    "v = np.arange(20)\n",
    "o = np.array(oVals)\n",
    "v2 = np.array([v, o])\n",
    "print(v2.shape)\n",
    "plt.contour(v2)"
   ]
  },
  {
   "cell_type": "code",
   "execution_count": 16,
   "metadata": {},
   "outputs": [
    {
     "name": "stdout",
     "output_type": "stream",
     "text": [
      "Mean squared error: 2559.32\n",
      "Variance score: 0.47\n"
     ]
    },
    {
     "data": {
      "image/png": "[encoded data removed]",
      "text/plain": [
       "<Figure size 648x432 with 1 Axes>"
      ]
     },
     "metadata": {},
     "output_type": "display_data"
    }
   ],
   "source": [
    "ridge = linear_model.Ridge(alpha=alpha)\n",
    "ridge.fit(diabetes_X_train, diabetes_y_train)\n",
    "\n",
    "diabetes_y_pred = ridge.predict(diabetes_X_test)\n",
    "print(\"Mean squared error: %.2f\"\n",
    "      % mean_squared_error(diabetes_y_test, diabetes_y_pred))\n",
    "# Explained variance score: 1 is perfect prediction\n",
    "print('Variance score: %.2f' % r2_score(diabetes_y_test, diabetes_y_pred))\n",
    "\n",
    "# Plot outputs\n",
    "plot(diabetes_X_test, diabetes_y_test, diabetes_y_pred, \"Sk-learn Ridge Regression\")"
   ]
  },
  {
   "cell_type": "code",
   "execution_count": 36,
   "metadata": {},
   "outputs": [
    {
     "name": "stdout",
     "output_type": "stream",
     "text": [
      "Mean squared error: 2746.21\n",
      "Variance score: 0.43\n"
     ]
    },
    {
     "data": {
      "image/png": "[encoded data removed]",
      "text/plain": [
       "<Figure size 648x432 with 1 Axes>"
      ]
     },
     "metadata": {},
     "output_type": "display_data"
    }
   ],
   "source": [
    "X = diabetes_X_train\n",
    "Y = diabetes_y_train\n",
    "\n",
    "b = np.ones((X.shape[0], 1))\n",
    "X = np.concatenate([X, b], axis = 1)\n",
    "Y = Y.reshape(-1, 1)\n",
    "\n",
    "W, oVals = runAlgo(X, Y, \"Ridge\", 20)\n",
    "\n",
    "# Comparison with Scikit - LR\n",
    "admm_predict = predict(diabetes_X_test, W)\n",
    "\n",
    "print(\"Mean squared error: %.2f\"\n",
    "      % mean_squared_error(diabetes_y_test, admm_predict))\n",
    "# Explained variance score: 1 is perfect prediction\n",
    "print('Variance score: %.2f' % r2_score(diabetes_y_test, admm_predict))\n",
    "\n",
    "plot(diabetes_X_test, diabetes_y_test, admm_predict, \"ADMM-Lasso Prediction\")"
   ]
  },
  {
   "cell_type": "code",
   "execution_count": 42,
   "metadata": {},
   "outputs": [
    {
     "data": {
      "image/png": "[encoded data removed]",
      "text/plain": [
       "<Figure size 432x288 with 1 Axes>"
      ]
     },
     "metadata": {},
     "output_type": "display_data"
    }
   ],
   "source": [
    "plotObjective(oVals, \"Ridge\")"
   ]
  },
  {
   "cell_type": "code",
   "execution_count": null,
   "metadata": {},
   "outputs": [],
   "source": []
  }
 ],
 "metadata": {
  "kernelspec": {
   "display_name": "Python 3",
   "language": "python",
   "name": "python3"
  },
  "language_info": {
   "codemirror_mode": {
    "name": "ipython",
    "version": 2
   },
   "file_extension": ".py",
   "mimetype": "text/x-python",
   "name": "python",
   "nbconvert_exporter": "python",
   "pygments_lexer": "ipython2",
   "version": "2.7.14"
  }
 },
 "nbformat": 4,
 "nbformat_minor": 2
}
